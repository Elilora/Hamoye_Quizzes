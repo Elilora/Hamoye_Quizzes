{
  "nbformat": 4,
  "nbformat_minor": 0,
  "metadata": {
    "colab": {
      "name": "Hamoye_Stage_B_ Quiz.ipynb",
      "provenance": [],
      "authorship_tag": "ABX9TyMVpYIeG5L4S95B4S9BJ45X",
      "include_colab_link": true
    },
    "kernelspec": {
      "name": "python3",
      "display_name": "Python 3"
    },
    "language_info": {
      "name": "python"
    }
  },
  "cells": [
    {
      "cell_type": "markdown",
      "metadata": {
        "id": "view-in-github",
        "colab_type": "text"
      },
      "source": [
        "<a href=\"https://colab.research.google.com/github/Elilora/Hamoye_Stage_B_Quiz/blob/main/Hamoye_Stage_B__Quiz.ipynb\" target=\"_parent\"><img src=\"https://colab.research.google.com/assets/colab-badge.svg\" alt=\"Open In Colab\"/></a>"
      ]
    },
    {
      "cell_type": "markdown",
      "source": [
        "Importing Necessary Libaries"
      ],
      "metadata": {
        "id": "kPcJWgMgUGhf"
      }
    },
    {
      "cell_type": "code",
      "execution_count": 39,
      "metadata": {
        "id": "z-TL9d3IT8_U"
      },
      "outputs": [],
      "source": [
        "import pandas as pd\n",
        "import numpy as np\n",
        "from google.colab import drive\n",
        "from sklearn.preprocessing import MinMaxScaler \n",
        "from sklearn.model_selection import train_test_split\n",
        "from sklearn.linear_model import LinearRegression, Ridge, Lasso, ElasticNet\n",
        "from sklearn.metrics import mean_squared_error,r2_score,mean_absolute_error, accuracy_score"
      ]
    },
    {
      "cell_type": "markdown",
      "source": [
        "Mounting Drive"
      ],
      "metadata": {
        "id": "W4jKf7KrUGNg"
      }
    },
    {
      "cell_type": "code",
      "source": [
        "drive.mount('/content/drive')"
      ],
      "metadata": {
        "colab": {
          "base_uri": "https://localhost:8080/"
        },
        "id": "YvWhXpBYUhOw",
        "outputId": "4b7d2c90-8ccb-4df4-acbb-b5390074eed2"
      },
      "execution_count": 40,
      "outputs": [
        {
          "output_type": "stream",
          "name": "stdout",
          "text": [
            "Drive already mounted at /content/drive; to attempt to forcibly remount, call drive.mount(\"/content/drive\", force_remount=True).\n"
          ]
        }
      ]
    },
    {
      "cell_type": "markdown",
      "source": [
        "Uploading data"
      ],
      "metadata": {
        "id": "nGM8ePv6UfZE"
      }
    },
    {
      "cell_type": "code",
      "source": [
        "Energy_data= pd.read_csv(\"/content/drive/MyDrive/energydata_complete.csv\")\n",
        "Energy_data.head()"
      ],
      "metadata": {
        "colab": {
          "base_uri": "https://localhost:8080/",
          "height": 473
        },
        "id": "oGENEB9YUenB",
        "outputId": "b6905948-4201-4246-f71d-fe647f490267"
      },
      "execution_count": 41,
      "outputs": [
        {
          "output_type": "execute_result",
          "data": {
            "text/plain": [
              "                  date  Appliances  lights     T1       RH_1    T2       RH_2  \\\n",
              "0  2016-01-11 17:00:00          60      30  19.89  47.596667  19.2  44.790000   \n",
              "1  2016-01-11 17:10:00          60      30  19.89  46.693333  19.2  44.722500   \n",
              "2  2016-01-11 17:20:00          50      30  19.89  46.300000  19.2  44.626667   \n",
              "3  2016-01-11 17:30:00          50      40  19.89  46.066667  19.2  44.590000   \n",
              "4  2016-01-11 17:40:00          60      40  19.89  46.333333  19.2  44.530000   \n",
              "\n",
              "      T3       RH_3         T4  ...         T9   RH_9     T_out  Press_mm_hg  \\\n",
              "0  19.79  44.730000  19.000000  ...  17.033333  45.53  6.600000        733.5   \n",
              "1  19.79  44.790000  19.000000  ...  17.066667  45.56  6.483333        733.6   \n",
              "2  19.79  44.933333  18.926667  ...  17.000000  45.50  6.366667        733.7   \n",
              "3  19.79  45.000000  18.890000  ...  17.000000  45.40  6.250000        733.8   \n",
              "4  19.79  45.000000  18.890000  ...  17.000000  45.40  6.133333        733.9   \n",
              "\n",
              "   RH_out  Windspeed  Visibility  Tdewpoint        rv1        rv2  \n",
              "0    92.0   7.000000   63.000000        5.3  13.275433  13.275433  \n",
              "1    92.0   6.666667   59.166667        5.2  18.606195  18.606195  \n",
              "2    92.0   6.333333   55.333333        5.1  28.642668  28.642668  \n",
              "3    92.0   6.000000   51.500000        5.0  45.410389  45.410389  \n",
              "4    92.0   5.666667   47.666667        4.9  10.084097  10.084097  \n",
              "\n",
              "[5 rows x 29 columns]"
            ],
            "text/html": [
              "\n",
              "  <div id=\"df-82462d10-eeae-4044-b7b7-3e84bf6a88d5\">\n",
              "    <div class=\"colab-df-container\">\n",
              "      <div>\n",
              "<style scoped>\n",
              "    .dataframe tbody tr th:only-of-type {\n",
              "        vertical-align: middle;\n",
              "    }\n",
              "\n",
              "    .dataframe tbody tr th {\n",
              "        vertical-align: top;\n",
              "    }\n",
              "\n",
              "    .dataframe thead th {\n",
              "        text-align: right;\n",
              "    }\n",
              "</style>\n",
              "<table border=\"1\" class=\"dataframe\">\n",
              "  <thead>\n",
              "    <tr style=\"text-align: right;\">\n",
              "      <th></th>\n",
              "      <th>date</th>\n",
              "      <th>Appliances</th>\n",
              "      <th>lights</th>\n",
              "      <th>T1</th>\n",
              "      <th>RH_1</th>\n",
              "      <th>T2</th>\n",
              "      <th>RH_2</th>\n",
              "      <th>T3</th>\n",
              "      <th>RH_3</th>\n",
              "      <th>T4</th>\n",
              "      <th>...</th>\n",
              "      <th>T9</th>\n",
              "      <th>RH_9</th>\n",
              "      <th>T_out</th>\n",
              "      <th>Press_mm_hg</th>\n",
              "      <th>RH_out</th>\n",
              "      <th>Windspeed</th>\n",
              "      <th>Visibility</th>\n",
              "      <th>Tdewpoint</th>\n",
              "      <th>rv1</th>\n",
              "      <th>rv2</th>\n",
              "    </tr>\n",
              "  </thead>\n",
              "  <tbody>\n",
              "    <tr>\n",
              "      <th>0</th>\n",
              "      <td>2016-01-11 17:00:00</td>\n",
              "      <td>60</td>\n",
              "      <td>30</td>\n",
              "      <td>19.89</td>\n",
              "      <td>47.596667</td>\n",
              "      <td>19.2</td>\n",
              "      <td>44.790000</td>\n",
              "      <td>19.79</td>\n",
              "      <td>44.730000</td>\n",
              "      <td>19.000000</td>\n",
              "      <td>...</td>\n",
              "      <td>17.033333</td>\n",
              "      <td>45.53</td>\n",
              "      <td>6.600000</td>\n",
              "      <td>733.5</td>\n",
              "      <td>92.0</td>\n",
              "      <td>7.000000</td>\n",
              "      <td>63.000000</td>\n",
              "      <td>5.3</td>\n",
              "      <td>13.275433</td>\n",
              "      <td>13.275433</td>\n",
              "    </tr>\n",
              "    <tr>\n",
              "      <th>1</th>\n",
              "      <td>2016-01-11 17:10:00</td>\n",
              "      <td>60</td>\n",
              "      <td>30</td>\n",
              "      <td>19.89</td>\n",
              "      <td>46.693333</td>\n",
              "      <td>19.2</td>\n",
              "      <td>44.722500</td>\n",
              "      <td>19.79</td>\n",
              "      <td>44.790000</td>\n",
              "      <td>19.000000</td>\n",
              "      <td>...</td>\n",
              "      <td>17.066667</td>\n",
              "      <td>45.56</td>\n",
              "      <td>6.483333</td>\n",
              "      <td>733.6</td>\n",
              "      <td>92.0</td>\n",
              "      <td>6.666667</td>\n",
              "      <td>59.166667</td>\n",
              "      <td>5.2</td>\n",
              "      <td>18.606195</td>\n",
              "      <td>18.606195</td>\n",
              "    </tr>\n",
              "    <tr>\n",
              "      <th>2</th>\n",
              "      <td>2016-01-11 17:20:00</td>\n",
              "      <td>50</td>\n",
              "      <td>30</td>\n",
              "      <td>19.89</td>\n",
              "      <td>46.300000</td>\n",
              "      <td>19.2</td>\n",
              "      <td>44.626667</td>\n",
              "      <td>19.79</td>\n",
              "      <td>44.933333</td>\n",
              "      <td>18.926667</td>\n",
              "      <td>...</td>\n",
              "      <td>17.000000</td>\n",
              "      <td>45.50</td>\n",
              "      <td>6.366667</td>\n",
              "      <td>733.7</td>\n",
              "      <td>92.0</td>\n",
              "      <td>6.333333</td>\n",
              "      <td>55.333333</td>\n",
              "      <td>5.1</td>\n",
              "      <td>28.642668</td>\n",
              "      <td>28.642668</td>\n",
              "    </tr>\n",
              "    <tr>\n",
              "      <th>3</th>\n",
              "      <td>2016-01-11 17:30:00</td>\n",
              "      <td>50</td>\n",
              "      <td>40</td>\n",
              "      <td>19.89</td>\n",
              "      <td>46.066667</td>\n",
              "      <td>19.2</td>\n",
              "      <td>44.590000</td>\n",
              "      <td>19.79</td>\n",
              "      <td>45.000000</td>\n",
              "      <td>18.890000</td>\n",
              "      <td>...</td>\n",
              "      <td>17.000000</td>\n",
              "      <td>45.40</td>\n",
              "      <td>6.250000</td>\n",
              "      <td>733.8</td>\n",
              "      <td>92.0</td>\n",
              "      <td>6.000000</td>\n",
              "      <td>51.500000</td>\n",
              "      <td>5.0</td>\n",
              "      <td>45.410389</td>\n",
              "      <td>45.410389</td>\n",
              "    </tr>\n",
              "    <tr>\n",
              "      <th>4</th>\n",
              "      <td>2016-01-11 17:40:00</td>\n",
              "      <td>60</td>\n",
              "      <td>40</td>\n",
              "      <td>19.89</td>\n",
              "      <td>46.333333</td>\n",
              "      <td>19.2</td>\n",
              "      <td>44.530000</td>\n",
              "      <td>19.79</td>\n",
              "      <td>45.000000</td>\n",
              "      <td>18.890000</td>\n",
              "      <td>...</td>\n",
              "      <td>17.000000</td>\n",
              "      <td>45.40</td>\n",
              "      <td>6.133333</td>\n",
              "      <td>733.9</td>\n",
              "      <td>92.0</td>\n",
              "      <td>5.666667</td>\n",
              "      <td>47.666667</td>\n",
              "      <td>4.9</td>\n",
              "      <td>10.084097</td>\n",
              "      <td>10.084097</td>\n",
              "    </tr>\n",
              "  </tbody>\n",
              "</table>\n",
              "<p>5 rows × 29 columns</p>\n",
              "</div>\n",
              "      <button class=\"colab-df-convert\" onclick=\"convertToInteractive('df-82462d10-eeae-4044-b7b7-3e84bf6a88d5')\"\n",
              "              title=\"Convert this dataframe to an interactive table.\"\n",
              "              style=\"display:none;\">\n",
              "        \n",
              "  <svg xmlns=\"http://www.w3.org/2000/svg\" height=\"24px\"viewBox=\"0 0 24 24\"\n",
              "       width=\"24px\">\n",
              "    <path d=\"M0 0h24v24H0V0z\" fill=\"none\"/>\n",
              "    <path d=\"M18.56 5.44l.94 2.06.94-2.06 2.06-.94-2.06-.94-.94-2.06-.94 2.06-2.06.94zm-11 1L8.5 8.5l.94-2.06 2.06-.94-2.06-.94L8.5 2.5l-.94 2.06-2.06.94zm10 10l.94 2.06.94-2.06 2.06-.94-2.06-.94-.94-2.06-.94 2.06-2.06.94z\"/><path d=\"M17.41 7.96l-1.37-1.37c-.4-.4-.92-.59-1.43-.59-.52 0-1.04.2-1.43.59L10.3 9.45l-7.72 7.72c-.78.78-.78 2.05 0 2.83L4 21.41c.39.39.9.59 1.41.59.51 0 1.02-.2 1.41-.59l7.78-7.78 2.81-2.81c.8-.78.8-2.07 0-2.86zM5.41 20L4 18.59l7.72-7.72 1.47 1.35L5.41 20z\"/>\n",
              "  </svg>\n",
              "      </button>\n",
              "      \n",
              "  <style>\n",
              "    .colab-df-container {\n",
              "      display:flex;\n",
              "      flex-wrap:wrap;\n",
              "      gap: 12px;\n",
              "    }\n",
              "\n",
              "    .colab-df-convert {\n",
              "      background-color: #E8F0FE;\n",
              "      border: none;\n",
              "      border-radius: 50%;\n",
              "      cursor: pointer;\n",
              "      display: none;\n",
              "      fill: #1967D2;\n",
              "      height: 32px;\n",
              "      padding: 0 0 0 0;\n",
              "      width: 32px;\n",
              "    }\n",
              "\n",
              "    .colab-df-convert:hover {\n",
              "      background-color: #E2EBFA;\n",
              "      box-shadow: 0px 1px 2px rgba(60, 64, 67, 0.3), 0px 1px 3px 1px rgba(60, 64, 67, 0.15);\n",
              "      fill: #174EA6;\n",
              "    }\n",
              "\n",
              "    [theme=dark] .colab-df-convert {\n",
              "      background-color: #3B4455;\n",
              "      fill: #D2E3FC;\n",
              "    }\n",
              "\n",
              "    [theme=dark] .colab-df-convert:hover {\n",
              "      background-color: #434B5C;\n",
              "      box-shadow: 0px 1px 3px 1px rgba(0, 0, 0, 0.15);\n",
              "      filter: drop-shadow(0px 1px 2px rgba(0, 0, 0, 0.3));\n",
              "      fill: #FFFFFF;\n",
              "    }\n",
              "  </style>\n",
              "\n",
              "      <script>\n",
              "        const buttonEl =\n",
              "          document.querySelector('#df-82462d10-eeae-4044-b7b7-3e84bf6a88d5 button.colab-df-convert');\n",
              "        buttonEl.style.display =\n",
              "          google.colab.kernel.accessAllowed ? 'block' : 'none';\n",
              "\n",
              "        async function convertToInteractive(key) {\n",
              "          const element = document.querySelector('#df-82462d10-eeae-4044-b7b7-3e84bf6a88d5');\n",
              "          const dataTable =\n",
              "            await google.colab.kernel.invokeFunction('convertToInteractive',\n",
              "                                                     [key], {});\n",
              "          if (!dataTable) return;\n",
              "\n",
              "          const docLinkHtml = 'Like what you see? Visit the ' +\n",
              "            '<a target=\"_blank\" href=https://colab.research.google.com/notebooks/data_table.ipynb>data table notebook</a>'\n",
              "            + ' to learn more about interactive tables.';\n",
              "          element.innerHTML = '';\n",
              "          dataTable['output_type'] = 'display_data';\n",
              "          await google.colab.output.renderOutput(dataTable, element);\n",
              "          const docLink = document.createElement('div');\n",
              "          docLink.innerHTML = docLinkHtml;\n",
              "          element.appendChild(docLink);\n",
              "        }\n",
              "      </script>\n",
              "    </div>\n",
              "  </div>\n",
              "  "
            ]
          },
          "metadata": {},
          "execution_count": 41
        }
      ]
    },
    {
      "cell_type": "markdown",
      "source": [
        "QUESTION 12"
      ],
      "metadata": {
        "id": "nGqd3RvTUeFc"
      }
    },
    {
      "cell_type": "code",
      "source": [
        "#predictor\n",
        "X1=pd.DataFrame(Energy_data[\"T2\"])\n",
        "\n",
        "#response variable\n",
        "Y1=pd.DataFrame(Energy_data[\"T6\"])\n",
        "\n",
        "#spliting data\n",
        "X1_train, X1_test,Y1_train,Y1_test=train_test_split(X1,Y1, test_size=0.3, random_state=42)\n",
        "\n",
        "#Model Building\n",
        "model=LinearRegression()\n",
        "\n",
        "model.fit(X1_train, Y1_train)\n",
        "\n",
        "Ypredicted1=model.predict(X1_test)\n",
        "\n",
        "# Rsquared value\n",
        "Rsquared1=r2_score(Y1_test,Ypredicted1)\n",
        "print(round(Rsquared1,2))"
      ],
      "metadata": {
        "colab": {
          "base_uri": "https://localhost:8080/"
        },
        "id": "b6SSwk4FUdiE",
        "outputId": "75942c9c-b396-4d3d-93de-bf43399dfdcf"
      },
      "execution_count": 42,
      "outputs": [
        {
          "output_type": "stream",
          "name": "stdout",
          "text": [
            "0.64\n"
          ]
        }
      ]
    },
    {
      "cell_type": "code",
      "source": [
        ""
      ],
      "metadata": {
        "id": "_fTLComcVsdP"
      },
      "execution_count": 42,
      "outputs": []
    },
    {
      "cell_type": "markdown",
      "source": [
        "QUESTION 13"
      ],
      "metadata": {
        "id": "P6Mno8IqWC66"
      }
    },
    {
      "cell_type": "code",
      "source": [
        "#drop time column\n",
        "Energy_data.drop(columns=[\"date\"], inplace= True)\n",
        "\n",
        "#Defining Column Names\n",
        "col_names=[\"Appliances\",\"lights\",\"T1\",\"RH_1\",\"T2\",\"RH_2\",\"T3\",\"RH_3\",\"T4\",\n",
        "\"RH_4\",\"T5\",\"RH_5\",\"T6\",\"RH_6\",\"T7\",\"RH_7\",\"T8\",\"RH_8\",\"T9\",\"RH_9\",\"T_out\",\n",
        "\"Press_mm_hg\",\"RH_out\",\"Windspeed\",\"Visibility\",\"Tdewpoint\",\"rv1\",\"rv2\"]\n",
        "\n",
        "#Normalize data\n",
        "Scaler= MinMaxScaler()\n",
        "data= Scaler.fit_transform(Energy_data)\n",
        "appliance_energy_data= pd.DataFrame(data, columns=col_names)\n",
        "\n",
        "\n",
        "appliance_energy_data"
      ],
      "metadata": {
        "colab": {
          "base_uri": "https://localhost:8080/",
          "height": 488
        },
        "id": "-5nXv2x5WFy2",
        "outputId": "dfc54816-bce5-41f8-f9e8-8fb7e1a32b7b"
      },
      "execution_count": 43,
      "outputs": [
        {
          "output_type": "execute_result",
          "data": {
            "text/plain": [
              "       Appliances    lights        T1      RH_1        T2      RH_2        T3  \\\n",
              "0        0.046729  0.428571  0.327350  0.566187  0.225345  0.684038  0.215188   \n",
              "1        0.046729  0.428571  0.327350  0.541326  0.225345  0.682140  0.215188   \n",
              "2        0.037383  0.428571  0.327350  0.530502  0.225345  0.679445  0.215188   \n",
              "3        0.037383  0.571429  0.327350  0.524080  0.225345  0.678414  0.215188   \n",
              "4        0.046729  0.571429  0.327350  0.531419  0.225345  0.676727  0.215188   \n",
              "...           ...       ...       ...       ...       ...       ...       ...   \n",
              "19730    0.084112  0.000000  0.926786  0.537657  0.711655  0.606309  0.830841   \n",
              "19731    0.074766  0.000000  0.919747  0.536006  0.701769  0.607836  0.825302   \n",
              "19732    0.242991  0.142857  0.919747  0.538666  0.692651  0.627198  0.818378   \n",
              "19733    0.383178  0.142857  0.919747  0.549491  0.677054  0.634717  0.805085   \n",
              "19734    0.392523  0.142857  0.919747  0.538758  0.666171  0.632902  0.799546   \n",
              "\n",
              "           RH_3        T4      RH_4  ...        T9      RH_9     T_out  \\\n",
              "0      0.746066  0.351351  0.764262  ...  0.223032  0.677290  0.372990   \n",
              "1      0.748871  0.351351  0.782437  ...  0.226500  0.678532  0.369239   \n",
              "2      0.755569  0.344745  0.778062  ...  0.219563  0.676049  0.365488   \n",
              "3      0.758685  0.341441  0.770949  ...  0.219563  0.671909  0.361736   \n",
              "4      0.758685  0.341441  0.762697  ...  0.219563  0.671909  0.357985   \n",
              "...         ...       ...       ...  ...       ...       ...       ...   \n",
              "19730  0.579374  0.864865  0.765258  ...  0.864724  0.729443  0.891747   \n",
              "19731  0.582178  0.864865  0.765258  ...  0.864724  0.729443  0.887460   \n",
              "19732  0.603988  0.864865  0.771233  ...  0.864724  0.729443  0.883173   \n",
              "19733  0.585294  0.864865  0.773794  ...  0.864724  0.730581  0.878885   \n",
              "19734  0.579062  0.864865  0.781192  ...  0.864724  0.731719  0.874598   \n",
              "\n",
              "       Press_mm_hg    RH_out  Windspeed  Visibility  Tdewpoint       rv1  \\\n",
              "0         0.097674  0.894737   0.500000    0.953846   0.538462  0.265449   \n",
              "1         0.100000  0.894737   0.476190    0.894872   0.533937  0.372083   \n",
              "2         0.102326  0.894737   0.452381    0.835897   0.529412  0.572848   \n",
              "3         0.104651  0.894737   0.428571    0.776923   0.524887  0.908261   \n",
              "4         0.106977  0.894737   0.404762    0.717949   0.520362  0.201611   \n",
              "...            ...       ...        ...         ...        ...       ...   \n",
              "19730     0.602326  0.416667   0.238095    0.348718   0.901961  0.861981   \n",
              "19731     0.602326  0.421053   0.250000    0.361538   0.900452  0.985726   \n",
              "19732     0.602326  0.425439   0.261905    0.374359   0.898944  0.583979   \n",
              "19733     0.602326  0.429825   0.273810    0.387179   0.897436  0.126371   \n",
              "19734     0.602326  0.434211   0.285714    0.400000   0.895928  0.682391   \n",
              "\n",
              "            rv2  \n",
              "0      0.265449  \n",
              "1      0.372083  \n",
              "2      0.572848  \n",
              "3      0.908261  \n",
              "4      0.201611  \n",
              "...         ...  \n",
              "19730  0.861981  \n",
              "19731  0.985726  \n",
              "19732  0.583979  \n",
              "19733  0.126371  \n",
              "19734  0.682391  \n",
              "\n",
              "[19735 rows x 28 columns]"
            ],
            "text/html": [
              "\n",
              "  <div id=\"df-5c6cfbc0-db8a-4043-9db8-8da4bc71ddbf\">\n",
              "    <div class=\"colab-df-container\">\n",
              "      <div>\n",
              "<style scoped>\n",
              "    .dataframe tbody tr th:only-of-type {\n",
              "        vertical-align: middle;\n",
              "    }\n",
              "\n",
              "    .dataframe tbody tr th {\n",
              "        vertical-align: top;\n",
              "    }\n",
              "\n",
              "    .dataframe thead th {\n",
              "        text-align: right;\n",
              "    }\n",
              "</style>\n",
              "<table border=\"1\" class=\"dataframe\">\n",
              "  <thead>\n",
              "    <tr style=\"text-align: right;\">\n",
              "      <th></th>\n",
              "      <th>Appliances</th>\n",
              "      <th>lights</th>\n",
              "      <th>T1</th>\n",
              "      <th>RH_1</th>\n",
              "      <th>T2</th>\n",
              "      <th>RH_2</th>\n",
              "      <th>T3</th>\n",
              "      <th>RH_3</th>\n",
              "      <th>T4</th>\n",
              "      <th>RH_4</th>\n",
              "      <th>...</th>\n",
              "      <th>T9</th>\n",
              "      <th>RH_9</th>\n",
              "      <th>T_out</th>\n",
              "      <th>Press_mm_hg</th>\n",
              "      <th>RH_out</th>\n",
              "      <th>Windspeed</th>\n",
              "      <th>Visibility</th>\n",
              "      <th>Tdewpoint</th>\n",
              "      <th>rv1</th>\n",
              "      <th>rv2</th>\n",
              "    </tr>\n",
              "  </thead>\n",
              "  <tbody>\n",
              "    <tr>\n",
              "      <th>0</th>\n",
              "      <td>0.046729</td>\n",
              "      <td>0.428571</td>\n",
              "      <td>0.327350</td>\n",
              "      <td>0.566187</td>\n",
              "      <td>0.225345</td>\n",
              "      <td>0.684038</td>\n",
              "      <td>0.215188</td>\n",
              "      <td>0.746066</td>\n",
              "      <td>0.351351</td>\n",
              "      <td>0.764262</td>\n",
              "      <td>...</td>\n",
              "      <td>0.223032</td>\n",
              "      <td>0.677290</td>\n",
              "      <td>0.372990</td>\n",
              "      <td>0.097674</td>\n",
              "      <td>0.894737</td>\n",
              "      <td>0.500000</td>\n",
              "      <td>0.953846</td>\n",
              "      <td>0.538462</td>\n",
              "      <td>0.265449</td>\n",
              "      <td>0.265449</td>\n",
              "    </tr>\n",
              "    <tr>\n",
              "      <th>1</th>\n",
              "      <td>0.046729</td>\n",
              "      <td>0.428571</td>\n",
              "      <td>0.327350</td>\n",
              "      <td>0.541326</td>\n",
              "      <td>0.225345</td>\n",
              "      <td>0.682140</td>\n",
              "      <td>0.215188</td>\n",
              "      <td>0.748871</td>\n",
              "      <td>0.351351</td>\n",
              "      <td>0.782437</td>\n",
              "      <td>...</td>\n",
              "      <td>0.226500</td>\n",
              "      <td>0.678532</td>\n",
              "      <td>0.369239</td>\n",
              "      <td>0.100000</td>\n",
              "      <td>0.894737</td>\n",
              "      <td>0.476190</td>\n",
              "      <td>0.894872</td>\n",
              "      <td>0.533937</td>\n",
              "      <td>0.372083</td>\n",
              "      <td>0.372083</td>\n",
              "    </tr>\n",
              "    <tr>\n",
              "      <th>2</th>\n",
              "      <td>0.037383</td>\n",
              "      <td>0.428571</td>\n",
              "      <td>0.327350</td>\n",
              "      <td>0.530502</td>\n",
              "      <td>0.225345</td>\n",
              "      <td>0.679445</td>\n",
              "      <td>0.215188</td>\n",
              "      <td>0.755569</td>\n",
              "      <td>0.344745</td>\n",
              "      <td>0.778062</td>\n",
              "      <td>...</td>\n",
              "      <td>0.219563</td>\n",
              "      <td>0.676049</td>\n",
              "      <td>0.365488</td>\n",
              "      <td>0.102326</td>\n",
              "      <td>0.894737</td>\n",
              "      <td>0.452381</td>\n",
              "      <td>0.835897</td>\n",
              "      <td>0.529412</td>\n",
              "      <td>0.572848</td>\n",
              "      <td>0.572848</td>\n",
              "    </tr>\n",
              "    <tr>\n",
              "      <th>3</th>\n",
              "      <td>0.037383</td>\n",
              "      <td>0.571429</td>\n",
              "      <td>0.327350</td>\n",
              "      <td>0.524080</td>\n",
              "      <td>0.225345</td>\n",
              "      <td>0.678414</td>\n",
              "      <td>0.215188</td>\n",
              "      <td>0.758685</td>\n",
              "      <td>0.341441</td>\n",
              "      <td>0.770949</td>\n",
              "      <td>...</td>\n",
              "      <td>0.219563</td>\n",
              "      <td>0.671909</td>\n",
              "      <td>0.361736</td>\n",
              "      <td>0.104651</td>\n",
              "      <td>0.894737</td>\n",
              "      <td>0.428571</td>\n",
              "      <td>0.776923</td>\n",
              "      <td>0.524887</td>\n",
              "      <td>0.908261</td>\n",
              "      <td>0.908261</td>\n",
              "    </tr>\n",
              "    <tr>\n",
              "      <th>4</th>\n",
              "      <td>0.046729</td>\n",
              "      <td>0.571429</td>\n",
              "      <td>0.327350</td>\n",
              "      <td>0.531419</td>\n",
              "      <td>0.225345</td>\n",
              "      <td>0.676727</td>\n",
              "      <td>0.215188</td>\n",
              "      <td>0.758685</td>\n",
              "      <td>0.341441</td>\n",
              "      <td>0.762697</td>\n",
              "      <td>...</td>\n",
              "      <td>0.219563</td>\n",
              "      <td>0.671909</td>\n",
              "      <td>0.357985</td>\n",
              "      <td>0.106977</td>\n",
              "      <td>0.894737</td>\n",
              "      <td>0.404762</td>\n",
              "      <td>0.717949</td>\n",
              "      <td>0.520362</td>\n",
              "      <td>0.201611</td>\n",
              "      <td>0.201611</td>\n",
              "    </tr>\n",
              "    <tr>\n",
              "      <th>...</th>\n",
              "      <td>...</td>\n",
              "      <td>...</td>\n",
              "      <td>...</td>\n",
              "      <td>...</td>\n",
              "      <td>...</td>\n",
              "      <td>...</td>\n",
              "      <td>...</td>\n",
              "      <td>...</td>\n",
              "      <td>...</td>\n",
              "      <td>...</td>\n",
              "      <td>...</td>\n",
              "      <td>...</td>\n",
              "      <td>...</td>\n",
              "      <td>...</td>\n",
              "      <td>...</td>\n",
              "      <td>...</td>\n",
              "      <td>...</td>\n",
              "      <td>...</td>\n",
              "      <td>...</td>\n",
              "      <td>...</td>\n",
              "      <td>...</td>\n",
              "    </tr>\n",
              "    <tr>\n",
              "      <th>19730</th>\n",
              "      <td>0.084112</td>\n",
              "      <td>0.000000</td>\n",
              "      <td>0.926786</td>\n",
              "      <td>0.537657</td>\n",
              "      <td>0.711655</td>\n",
              "      <td>0.606309</td>\n",
              "      <td>0.830841</td>\n",
              "      <td>0.579374</td>\n",
              "      <td>0.864865</td>\n",
              "      <td>0.765258</td>\n",
              "      <td>...</td>\n",
              "      <td>0.864724</td>\n",
              "      <td>0.729443</td>\n",
              "      <td>0.891747</td>\n",
              "      <td>0.602326</td>\n",
              "      <td>0.416667</td>\n",
              "      <td>0.238095</td>\n",
              "      <td>0.348718</td>\n",
              "      <td>0.901961</td>\n",
              "      <td>0.861981</td>\n",
              "      <td>0.861981</td>\n",
              "    </tr>\n",
              "    <tr>\n",
              "      <th>19731</th>\n",
              "      <td>0.074766</td>\n",
              "      <td>0.000000</td>\n",
              "      <td>0.919747</td>\n",
              "      <td>0.536006</td>\n",
              "      <td>0.701769</td>\n",
              "      <td>0.607836</td>\n",
              "      <td>0.825302</td>\n",
              "      <td>0.582178</td>\n",
              "      <td>0.864865</td>\n",
              "      <td>0.765258</td>\n",
              "      <td>...</td>\n",
              "      <td>0.864724</td>\n",
              "      <td>0.729443</td>\n",
              "      <td>0.887460</td>\n",
              "      <td>0.602326</td>\n",
              "      <td>0.421053</td>\n",
              "      <td>0.250000</td>\n",
              "      <td>0.361538</td>\n",
              "      <td>0.900452</td>\n",
              "      <td>0.985726</td>\n",
              "      <td>0.985726</td>\n",
              "    </tr>\n",
              "    <tr>\n",
              "      <th>19732</th>\n",
              "      <td>0.242991</td>\n",
              "      <td>0.142857</td>\n",
              "      <td>0.919747</td>\n",
              "      <td>0.538666</td>\n",
              "      <td>0.692651</td>\n",
              "      <td>0.627198</td>\n",
              "      <td>0.818378</td>\n",
              "      <td>0.603988</td>\n",
              "      <td>0.864865</td>\n",
              "      <td>0.771233</td>\n",
              "      <td>...</td>\n",
              "      <td>0.864724</td>\n",
              "      <td>0.729443</td>\n",
              "      <td>0.883173</td>\n",
              "      <td>0.602326</td>\n",
              "      <td>0.425439</td>\n",
              "      <td>0.261905</td>\n",
              "      <td>0.374359</td>\n",
              "      <td>0.898944</td>\n",
              "      <td>0.583979</td>\n",
              "      <td>0.583979</td>\n",
              "    </tr>\n",
              "    <tr>\n",
              "      <th>19733</th>\n",
              "      <td>0.383178</td>\n",
              "      <td>0.142857</td>\n",
              "      <td>0.919747</td>\n",
              "      <td>0.549491</td>\n",
              "      <td>0.677054</td>\n",
              "      <td>0.634717</td>\n",
              "      <td>0.805085</td>\n",
              "      <td>0.585294</td>\n",
              "      <td>0.864865</td>\n",
              "      <td>0.773794</td>\n",
              "      <td>...</td>\n",
              "      <td>0.864724</td>\n",
              "      <td>0.730581</td>\n",
              "      <td>0.878885</td>\n",
              "      <td>0.602326</td>\n",
              "      <td>0.429825</td>\n",
              "      <td>0.273810</td>\n",
              "      <td>0.387179</td>\n",
              "      <td>0.897436</td>\n",
              "      <td>0.126371</td>\n",
              "      <td>0.126371</td>\n",
              "    </tr>\n",
              "    <tr>\n",
              "      <th>19734</th>\n",
              "      <td>0.392523</td>\n",
              "      <td>0.142857</td>\n",
              "      <td>0.919747</td>\n",
              "      <td>0.538758</td>\n",
              "      <td>0.666171</td>\n",
              "      <td>0.632902</td>\n",
              "      <td>0.799546</td>\n",
              "      <td>0.579062</td>\n",
              "      <td>0.864865</td>\n",
              "      <td>0.781192</td>\n",
              "      <td>...</td>\n",
              "      <td>0.864724</td>\n",
              "      <td>0.731719</td>\n",
              "      <td>0.874598</td>\n",
              "      <td>0.602326</td>\n",
              "      <td>0.434211</td>\n",
              "      <td>0.285714</td>\n",
              "      <td>0.400000</td>\n",
              "      <td>0.895928</td>\n",
              "      <td>0.682391</td>\n",
              "      <td>0.682391</td>\n",
              "    </tr>\n",
              "  </tbody>\n",
              "</table>\n",
              "<p>19735 rows × 28 columns</p>\n",
              "</div>\n",
              "      <button class=\"colab-df-convert\" onclick=\"convertToInteractive('df-5c6cfbc0-db8a-4043-9db8-8da4bc71ddbf')\"\n",
              "              title=\"Convert this dataframe to an interactive table.\"\n",
              "              style=\"display:none;\">\n",
              "        \n",
              "  <svg xmlns=\"http://www.w3.org/2000/svg\" height=\"24px\"viewBox=\"0 0 24 24\"\n",
              "       width=\"24px\">\n",
              "    <path d=\"M0 0h24v24H0V0z\" fill=\"none\"/>\n",
              "    <path d=\"M18.56 5.44l.94 2.06.94-2.06 2.06-.94-2.06-.94-.94-2.06-.94 2.06-2.06.94zm-11 1L8.5 8.5l.94-2.06 2.06-.94-2.06-.94L8.5 2.5l-.94 2.06-2.06.94zm10 10l.94 2.06.94-2.06 2.06-.94-2.06-.94-.94-2.06-.94 2.06-2.06.94z\"/><path d=\"M17.41 7.96l-1.37-1.37c-.4-.4-.92-.59-1.43-.59-.52 0-1.04.2-1.43.59L10.3 9.45l-7.72 7.72c-.78.78-.78 2.05 0 2.83L4 21.41c.39.39.9.59 1.41.59.51 0 1.02-.2 1.41-.59l7.78-7.78 2.81-2.81c.8-.78.8-2.07 0-2.86zM5.41 20L4 18.59l7.72-7.72 1.47 1.35L5.41 20z\"/>\n",
              "  </svg>\n",
              "      </button>\n",
              "      \n",
              "  <style>\n",
              "    .colab-df-container {\n",
              "      display:flex;\n",
              "      flex-wrap:wrap;\n",
              "      gap: 12px;\n",
              "    }\n",
              "\n",
              "    .colab-df-convert {\n",
              "      background-color: #E8F0FE;\n",
              "      border: none;\n",
              "      border-radius: 50%;\n",
              "      cursor: pointer;\n",
              "      display: none;\n",
              "      fill: #1967D2;\n",
              "      height: 32px;\n",
              "      padding: 0 0 0 0;\n",
              "      width: 32px;\n",
              "    }\n",
              "\n",
              "    .colab-df-convert:hover {\n",
              "      background-color: #E2EBFA;\n",
              "      box-shadow: 0px 1px 2px rgba(60, 64, 67, 0.3), 0px 1px 3px 1px rgba(60, 64, 67, 0.15);\n",
              "      fill: #174EA6;\n",
              "    }\n",
              "\n",
              "    [theme=dark] .colab-df-convert {\n",
              "      background-color: #3B4455;\n",
              "      fill: #D2E3FC;\n",
              "    }\n",
              "\n",
              "    [theme=dark] .colab-df-convert:hover {\n",
              "      background-color: #434B5C;\n",
              "      box-shadow: 0px 1px 3px 1px rgba(0, 0, 0, 0.15);\n",
              "      filter: drop-shadow(0px 1px 2px rgba(0, 0, 0, 0.3));\n",
              "      fill: #FFFFFF;\n",
              "    }\n",
              "  </style>\n",
              "\n",
              "      <script>\n",
              "        const buttonEl =\n",
              "          document.querySelector('#df-5c6cfbc0-db8a-4043-9db8-8da4bc71ddbf button.colab-df-convert');\n",
              "        buttonEl.style.display =\n",
              "          google.colab.kernel.accessAllowed ? 'block' : 'none';\n",
              "\n",
              "        async function convertToInteractive(key) {\n",
              "          const element = document.querySelector('#df-5c6cfbc0-db8a-4043-9db8-8da4bc71ddbf');\n",
              "          const dataTable =\n",
              "            await google.colab.kernel.invokeFunction('convertToInteractive',\n",
              "                                                     [key], {});\n",
              "          if (!dataTable) return;\n",
              "\n",
              "          const docLinkHtml = 'Like what you see? Visit the ' +\n",
              "            '<a target=\"_blank\" href=https://colab.research.google.com/notebooks/data_table.ipynb>data table notebook</a>'\n",
              "            + ' to learn more about interactive tables.';\n",
              "          element.innerHTML = '';\n",
              "          dataTable['output_type'] = 'display_data';\n",
              "          await google.colab.output.renderOutput(dataTable, element);\n",
              "          const docLink = document.createElement('div');\n",
              "          docLink.innerHTML = docLinkHtml;\n",
              "          element.appendChild(docLink);\n",
              "        }\n",
              "      </script>\n",
              "    </div>\n",
              "  </div>\n",
              "  "
            ]
          },
          "metadata": {},
          "execution_count": 43
        }
      ]
    },
    {
      "cell_type": "code",
      "source": [
        "#predictors\n",
        "X=appliance_energy_data.drop(columns=[\"Appliances\",\"lights\"])\n",
        "\n",
        "#Response Variable\n",
        "Y=appliance_energy_data[\"Appliances\"]\n",
        "\n",
        "#split data\n",
        "X_train, X_test,Y_train,Y_test=train_test_split(X,Y, test_size=0.3, random_state=42)\n",
        "\n",
        "#model Building\n",
        "Linear_model=LinearRegression()\n",
        "\n",
        "Linear_model.fit(X_train, Y_train)\n",
        "\n",
        "Linear_model_predicted_values=Linear_model.predict(X_test)\n",
        "\n",
        "#Mean Absolute Error Metric\n",
        "Linear_MAE=mean_absolute_error(Y_test,Linear_model_predicted_values)\n",
        "print(round(Linear_MAE,2))"
      ],
      "metadata": {
        "colab": {
          "base_uri": "https://localhost:8080/"
        },
        "id": "m5wls4bqWG22",
        "outputId": "6878a1b0-a5ac-42d7-de72-ca880caf9c41"
      },
      "execution_count": 44,
      "outputs": [
        {
          "output_type": "stream",
          "name": "stdout",
          "text": [
            "0.05\n"
          ]
        }
      ]
    },
    {
      "cell_type": "markdown",
      "source": [
        "QUESTION 14"
      ],
      "metadata": {
        "id": "-dp6oAEQYb99"
      }
    },
    {
      "cell_type": "code",
      "source": [
        "# Rsidual sum of squares\n",
        "Linear_RSS=np.sum(np.square(Y_test-Linear_model_predicted_values))\n",
        "print(round(Linear_RSS,2))"
      ],
      "metadata": {
        "colab": {
          "base_uri": "https://localhost:8080/"
        },
        "id": "ieDOtnuTYTCz",
        "outputId": "39c880e5-bfde-4b8c-da5c-63f17a9e6bea"
      },
      "execution_count": 45,
      "outputs": [
        {
          "output_type": "stream",
          "name": "stdout",
          "text": [
            "45.35\n"
          ]
        }
      ]
    },
    {
      "cell_type": "markdown",
      "source": [
        "QUESTION 15"
      ],
      "metadata": {
        "id": "0j9V3zLfYfAK"
      }
    },
    {
      "cell_type": "code",
      "source": [
        "Linear_MSE=mean_squared_error(Y_test,Linear_model_predicted_values)\n",
        "Linear_RMSE=np.sqrt(Linear_MSE)\n",
        "print(round(Linear_RMSE,3))"
      ],
      "metadata": {
        "colab": {
          "base_uri": "https://localhost:8080/"
        },
        "id": "CtoKuG10YSFP",
        "outputId": "4bb78efc-96c9-4db5-de60-afd4e39ec6ca"
      },
      "execution_count": 46,
      "outputs": [
        {
          "output_type": "stream",
          "name": "stdout",
          "text": [
            "0.088\n"
          ]
        }
      ]
    },
    {
      "cell_type": "markdown",
      "source": [
        "QUSTION 16"
      ],
      "metadata": {
        "id": "lwdHdjq5Y9q8"
      }
    },
    {
      "cell_type": "code",
      "source": [
        "coefficient_determination=r2_score(Y_test,Linear_model_predicted_values)\n",
        "print(round(coefficient_determination,2))"
      ],
      "metadata": {
        "colab": {
          "base_uri": "https://localhost:8080/"
        },
        "id": "PGkqAV_5ZAmw",
        "outputId": "634ef19d-eca0-49df-d0ce-5defafa6103f"
      },
      "execution_count": 47,
      "outputs": [
        {
          "output_type": "stream",
          "name": "stdout",
          "text": [
            "0.15\n"
          ]
        }
      ]
    },
    {
      "cell_type": "markdown",
      "source": [
        "QUSTION 17"
      ],
      "metadata": {
        "id": "ADli7JXgZB15"
      }
    },
    {
      "cell_type": "code",
      "source": [
        "# Linear model Coefficient\n",
        "Linear_coefficient=Linear_model.coef_\n",
        "print(Linear_coefficient)"
      ],
      "metadata": {
        "colab": {
          "base_uri": "https://localhost:8080/"
        },
        "id": "JJ5KY4Gxap56",
        "outputId": "c1626313-bcb8-465c-a3a7-3b1a9cca3bf6"
      },
      "execution_count": 48,
      "outputs": [
        {
          "output_type": "stream",
          "name": "stdout",
          "text": [
            "[-0.00328105  0.5535466  -0.23617792 -0.45669795  0.29062714  0.09604827\n",
            "  0.028981    0.02638578 -0.01565684  0.01600579  0.23642491  0.03804865\n",
            "  0.01031878 -0.04461364  0.10199505 -0.15759548 -0.18994077 -0.03980032\n",
            " -0.32185967  0.00683933 -0.07767065  0.02918313  0.01230661  0.11775773\n",
            "  0.0007701   0.0007701 ]\n"
          ]
        }
      ]
    },
    {
      "cell_type": "code",
      "source": [
        "def feature_weights(Coefficient, Features, column_name):\n",
        "   weights= pd.Series(Coefficient, Features.columns).sort_values()\n",
        "   weights_df=pd.DataFrame(weights).reset_index()\n",
        "   weights_df.columns=[\"Features\",column_name]\n",
        "   weights_df[column_name].round(3)\n",
        "   return weights_df\n",
        "\n",
        "\n",
        "linear_model_weights=feature_weights(Linear_coefficient,X_train, \"Linear_model_weights\")\n",
        "print(linear_model_weights)"
      ],
      "metadata": {
        "colab": {
          "base_uri": "https://localhost:8080/"
        },
        "id": "CQn5skVgapkz",
        "outputId": "80d2179e-bd16-4714-8166-6965287e090a"
      },
      "execution_count": 49,
      "outputs": [
        {
          "output_type": "stream",
          "name": "stdout",
          "text": [
            "       Features  Linear_model_weights\n",
            "0          RH_2             -0.456698\n",
            "1         T_out             -0.321860\n",
            "2            T2             -0.236178\n",
            "3            T9             -0.189941\n",
            "4          RH_8             -0.157595\n",
            "5        RH_out             -0.077671\n",
            "6          RH_7             -0.044614\n",
            "7          RH_9             -0.039800\n",
            "8            T5             -0.015657\n",
            "9            T1             -0.003281\n",
            "10          rv1              0.000770\n",
            "11          rv2              0.000770\n",
            "12  Press_mm_hg              0.006839\n",
            "13           T7              0.010319\n",
            "14   Visibility              0.012307\n",
            "15         RH_5              0.016006\n",
            "16         RH_4              0.026386\n",
            "17           T4              0.028981\n",
            "18    Windspeed              0.029183\n",
            "19         RH_6              0.038049\n",
            "20         RH_3              0.096048\n",
            "21           T8              0.101995\n",
            "22    Tdewpoint              0.117758\n",
            "23           T6              0.236425\n",
            "24           T3              0.290627\n",
            "25         RH_1              0.553547\n"
          ]
        }
      ]
    },
    {
      "cell_type": "markdown",
      "source": [
        "QUESTION 18"
      ],
      "metadata": {
        "id": "Lge1RDoFZGm3"
      }
    },
    {
      "cell_type": "code",
      "source": [
        "# Building Ridge Model\n",
        "Ridge_model=Ridge(alpha=0.4)\n",
        "\n",
        "#fitting model\n",
        "Ridge_model.fit(X_train, Y_train)\n",
        "\n",
        "#predicting model\n",
        "Ypredicted=Ridge_model.predict(X_test)\n",
        "\n",
        "#evaluating model\n",
        "Ridge_Model_MSE=mean_squared_error(Y_test,Ypredicted)\n",
        "Ridge_Model_RMSE=np.sqrt(Ridge_Model_MSE)\n",
        "print(round(Ridge_Model_RMSE,3))"
      ],
      "metadata": {
        "colab": {
          "base_uri": "https://localhost:8080/"
        },
        "id": "EIPZ1lGAZF6v",
        "outputId": "730e5b0b-b028-4e0e-dd40-8069adc5589a"
      },
      "execution_count": 50,
      "outputs": [
        {
          "output_type": "stream",
          "name": "stdout",
          "text": [
            "0.088\n"
          ]
        }
      ]
    },
    {
      "cell_type": "markdown",
      "source": [
        "QUESTION 19"
      ],
      "metadata": {
        "id": "djZ0RvWXZLAt"
      }
    },
    {
      "cell_type": "code",
      "source": [
        "Lasso_model=Lasso(alpha=0.001)\n",
        "Lasso_model.fit(X_train, Y_train)\n",
        "Ypredicted=Lasso_model.predict(X_test)"
      ],
      "metadata": {
        "id": "alAmtlASZKOt"
      },
      "execution_count": 51,
      "outputs": []
    },
    {
      "cell_type": "code",
      "source": [
        "Lasso_coefficient=Lasso_model.coef_\n",
        "print(Lasso_coefficient)"
      ],
      "metadata": {
        "colab": {
          "base_uri": "https://localhost:8080/"
        },
        "id": "qQhyI-HmZeLa",
        "outputId": "1ef69923-43af-4348-f21f-836fdb144daa"
      },
      "execution_count": 52,
      "outputs": [
        {
          "output_type": "stream",
          "name": "stdout",
          "text": [
            "[ 0.          0.01787993  0.         -0.          0.          0.\n",
            " -0.          0.         -0.          0.          0.         -0.\n",
            " -0.         -0.          0.         -0.00011004 -0.         -0.\n",
            "  0.         -0.         -0.04955749  0.00291176  0.          0.\n",
            " -0.         -0.        ]\n"
          ]
        }
      ]
    },
    {
      "cell_type": "code",
      "source": [
        "def feature_weights(Coefficient, Features, column_name):\n",
        "   weights= pd.Series(Coefficient, Features.columns).sort_values()\n",
        "   weights_df=pd.DataFrame(weights).reset_index()\n",
        "   weights_df.columns=[\"Features\",column_name]\n",
        "   weights_df[column_name].round(3)\n",
        "   return weights_df\n",
        "\n",
        "\n",
        "Lasso_model_weights=feature_weights(Lasso_coefficient,X_train, \"Lasso_model_weights\")\n",
        "print(Lasso_model_weights)"
      ],
      "metadata": {
        "colab": {
          "base_uri": "https://localhost:8080/"
        },
        "id": "7IqBUy7QZNNr",
        "outputId": "b2c999ee-6c1e-4b97-9f1a-0e8700240a72"
      },
      "execution_count": 53,
      "outputs": [
        {
          "output_type": "stream",
          "name": "stdout",
          "text": [
            "       Features  Lasso_model_weights\n",
            "0        RH_out            -0.049557\n",
            "1          RH_8            -0.000110\n",
            "2            T1             0.000000\n",
            "3     Tdewpoint             0.000000\n",
            "4    Visibility             0.000000\n",
            "5   Press_mm_hg            -0.000000\n",
            "6         T_out             0.000000\n",
            "7          RH_9            -0.000000\n",
            "8            T9            -0.000000\n",
            "9            T8             0.000000\n",
            "10         RH_7            -0.000000\n",
            "11          rv1            -0.000000\n",
            "12           T7            -0.000000\n",
            "13           T6             0.000000\n",
            "14         RH_5             0.000000\n",
            "15           T5            -0.000000\n",
            "16         RH_4             0.000000\n",
            "17           T4            -0.000000\n",
            "18         RH_3             0.000000\n",
            "19           T3             0.000000\n",
            "20         RH_2            -0.000000\n",
            "21           T2             0.000000\n",
            "22         RH_6            -0.000000\n",
            "23          rv2            -0.000000\n",
            "24    Windspeed             0.002912\n",
            "25         RH_1             0.017880\n"
          ]
        }
      ]
    },
    {
      "cell_type": "markdown",
      "source": [
        "QUESTION 20"
      ],
      "metadata": {
        "id": "J1EUlbx1ZOGg"
      }
    },
    {
      "cell_type": "code",
      "source": [
        "Lasso_Model_MSE=mean_squared_error(Y_test,Ypredicted)\n",
        "Lasso_Model_RMSE=np.sqrt(Lasso_Model_MSE)\n",
        "print(round(Lasso_Model_RMSE,3))"
      ],
      "metadata": {
        "colab": {
          "base_uri": "https://localhost:8080/"
        },
        "id": "fHgUVFerZQ7K",
        "outputId": "beaff9e3-17e1-4d43-b0b6-27805aaea822"
      },
      "execution_count": 54,
      "outputs": [
        {
          "output_type": "stream",
          "name": "stdout",
          "text": [
            "0.094\n"
          ]
        }
      ]
    }
  ]
}